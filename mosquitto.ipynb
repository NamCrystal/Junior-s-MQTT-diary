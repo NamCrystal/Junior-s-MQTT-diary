{
 "cells": [
  {
   "cell_type": "markdown",
   "id": "83859d51",
   "metadata": {},
   "source": [
    "# Mosquitto 설치 및 사용"
   ]
  },
  {
   "cell_type": "markdown",
   "id": "75536db6",
   "metadata": {},
   "source": [
    "#### 1.  mosquito 공식 사이트(https://mosquitto.org/) 에 접속하여 설치 "
   ]
  },
  {
   "cell_type": "markdown",
   "id": "09862a93",
   "metadata": {},
   "source": [
    "기본 명령어"
   ]
  },
  {
   "cell_type": "code",
   "execution_count": null,
   "id": "d8ce7f4d",
   "metadata": {},
   "outputs": [],
   "source": [
    "broker 시작 [net start mosquitto]\n",
    "broker 종료 [net stop mosquitto]\n",
    "Sub         [mosquitto_sub -h localhost -t /test]\n",
    "Pub         [mosquito_pub -h localhost -t /test -m “(~Message~)”]"
   ]
  }
 ],
 "metadata": {
  "kernelspec": {
   "display_name": "Python 3 (ipykernel)",
   "language": "python",
   "name": "python3"
  },
  "language_info": {
   "codemirror_mode": {
    "name": "ipython",
    "version": 3
   },
   "file_extension": ".py",
   "mimetype": "text/x-python",
   "name": "python",
   "nbconvert_exporter": "python",
   "pygments_lexer": "ipython3",
   "version": "3.8.11"
  }
 },
 "nbformat": 4,
 "nbformat_minor": 5
}
